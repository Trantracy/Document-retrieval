{
 "cells": [
  {
   "cell_type": "code",
   "execution_count": 39,
   "metadata": {},
   "outputs": [],
   "source": [
    "import pandas, sklearn\n",
    "import numpy as np"
   ]
  },
  {
   "cell_type": "code",
   "execution_count": 40,
   "metadata": {},
   "outputs": [],
   "source": [
    "people=pandas.read_csv('people_wiki.csv')"
   ]
  },
  {
   "cell_type": "code",
   "execution_count": 15,
   "metadata": {},
   "outputs": [
    {
     "data": {
      "text/html": [
       "<div>\n",
       "<style scoped>\n",
       "    .dataframe tbody tr th:only-of-type {\n",
       "        vertical-align: middle;\n",
       "    }\n",
       "\n",
       "    .dataframe tbody tr th {\n",
       "        vertical-align: top;\n",
       "    }\n",
       "\n",
       "    .dataframe thead th {\n",
       "        text-align: right;\n",
       "    }\n",
       "</style>\n",
       "<table border=\"1\" class=\"dataframe\">\n",
       "  <thead>\n",
       "    <tr style=\"text-align: right;\">\n",
       "      <th></th>\n",
       "      <th>URI</th>\n",
       "      <th>name</th>\n",
       "      <th>text</th>\n",
       "    </tr>\n",
       "  </thead>\n",
       "  <tbody>\n",
       "    <tr>\n",
       "      <td>0</td>\n",
       "      <td>&lt;http://dbpedia.org/resource/Digby_Morrell&gt;</td>\n",
       "      <td>Digby Morrell</td>\n",
       "      <td>digby morrell born 10 october 1979 is a former...</td>\n",
       "    </tr>\n",
       "    <tr>\n",
       "      <td>1</td>\n",
       "      <td>&lt;http://dbpedia.org/resource/Alfred_J._Lewy&gt;</td>\n",
       "      <td>Alfred J. Lewy</td>\n",
       "      <td>alfred j lewy aka sandy lewy graduated from un...</td>\n",
       "    </tr>\n",
       "    <tr>\n",
       "      <td>2</td>\n",
       "      <td>&lt;http://dbpedia.org/resource/Harpdog_Brown&gt;</td>\n",
       "      <td>Harpdog Brown</td>\n",
       "      <td>harpdog brown is a singer and harmonica player...</td>\n",
       "    </tr>\n",
       "    <tr>\n",
       "      <td>3</td>\n",
       "      <td>&lt;http://dbpedia.org/resource/Franz_Rottensteiner&gt;</td>\n",
       "      <td>Franz Rottensteiner</td>\n",
       "      <td>franz rottensteiner born in waidmannsfeld lowe...</td>\n",
       "    </tr>\n",
       "    <tr>\n",
       "      <td>4</td>\n",
       "      <td>&lt;http://dbpedia.org/resource/G-Enka&gt;</td>\n",
       "      <td>G-Enka</td>\n",
       "      <td>henry krvits born 30 december 1974 in tallinn ...</td>\n",
       "    </tr>\n",
       "  </tbody>\n",
       "</table>\n",
       "</div>"
      ],
      "text/plain": [
       "                                                 URI                 name  \\\n",
       "0        <http://dbpedia.org/resource/Digby_Morrell>        Digby Morrell   \n",
       "1       <http://dbpedia.org/resource/Alfred_J._Lewy>       Alfred J. Lewy   \n",
       "2        <http://dbpedia.org/resource/Harpdog_Brown>        Harpdog Brown   \n",
       "3  <http://dbpedia.org/resource/Franz_Rottensteiner>  Franz Rottensteiner   \n",
       "4               <http://dbpedia.org/resource/G-Enka>               G-Enka   \n",
       "\n",
       "                                                text  \n",
       "0  digby morrell born 10 october 1979 is a former...  \n",
       "1  alfred j lewy aka sandy lewy graduated from un...  \n",
       "2  harpdog brown is a singer and harmonica player...  \n",
       "3  franz rottensteiner born in waidmannsfeld lowe...  \n",
       "4  henry krvits born 30 december 1974 in tallinn ...  "
      ]
     },
     "execution_count": 15,
     "metadata": {},
     "output_type": "execute_result"
    }
   ],
   "source": [
    "people.head()"
   ]
  },
  {
   "cell_type": "code",
   "execution_count": 4,
   "metadata": {},
   "outputs": [],
   "source": [
    "#output = true or False vì toán tu la boolean\n",
    "obama1 = people['name']=='Barack Obama'"
   ]
  },
  {
   "cell_type": "code",
   "execution_count": 5,
   "metadata": {},
   "outputs": [
    {
     "data": {
      "text/plain": [
       "0        False\n",
       "1        False\n",
       "2        False\n",
       "3        False\n",
       "4        False\n",
       "         ...  \n",
       "59066    False\n",
       "59067    False\n",
       "59068    False\n",
       "59069    False\n",
       "59070    False\n",
       "Name: name, Length: 59071, dtype: bool"
      ]
     },
     "execution_count": 5,
     "metadata": {},
     "output_type": "execute_result"
    }
   ],
   "source": [
    "obama1"
   ]
  },
  {
   "cell_type": "code",
   "execution_count": 16,
   "metadata": {},
   "outputs": [],
   "source": [
    "#xuất ra DF có tên là 'Barack Obama'\n",
    "\n",
    "obama =people[people['name']=='Barack Obama']"
   ]
  },
  {
   "cell_type": "code",
   "execution_count": 8,
   "metadata": {},
   "outputs": [
    {
     "data": {
      "text/html": [
       "<div>\n",
       "<style scoped>\n",
       "    .dataframe tbody tr th:only-of-type {\n",
       "        vertical-align: middle;\n",
       "    }\n",
       "\n",
       "    .dataframe tbody tr th {\n",
       "        vertical-align: top;\n",
       "    }\n",
       "\n",
       "    .dataframe thead th {\n",
       "        text-align: right;\n",
       "    }\n",
       "</style>\n",
       "<table border=\"1\" class=\"dataframe\">\n",
       "  <thead>\n",
       "    <tr style=\"text-align: right;\">\n",
       "      <th></th>\n",
       "      <th>URI</th>\n",
       "      <th>name</th>\n",
       "      <th>text</th>\n",
       "    </tr>\n",
       "  </thead>\n",
       "  <tbody>\n",
       "    <tr>\n",
       "      <td>35817</td>\n",
       "      <td>&lt;http://dbpedia.org/resource/Barack_Obama&gt;</td>\n",
       "      <td>Barack Obama</td>\n",
       "      <td>barack hussein obama ii brk husen bm born augu...</td>\n",
       "    </tr>\n",
       "  </tbody>\n",
       "</table>\n",
       "</div>"
      ],
      "text/plain": [
       "                                              URI          name  \\\n",
       "35817  <http://dbpedia.org/resource/Barack_Obama>  Barack Obama   \n",
       "\n",
       "                                                    text  \n",
       "35817  barack hussein obama ii brk husen bm born augu...  "
      ]
     },
     "execution_count": 8,
     "metadata": {},
     "output_type": "execute_result"
    }
   ],
   "source": [
    "obama"
   ]
  },
  {
   "cell_type": "code",
   "execution_count": 12,
   "metadata": {},
   "outputs": [
    {
     "data": {
      "text/plain": [
       "'barack hussein obama ii brk husen bm born august 4 1961 is the 44th and current president of the united states and the first african american to hold the office born in honolulu hawaii obama is a graduate of columbia university and harvard law school where he served as president of the harvard law review he was a community organizer in chicago before earning his law degree he worked as a civil rights attorney and taught constitutional law at the university of chicago law school from 1992 to 2004 he served three terms representing the 13th district in the illinois senate from 1997 to 2004 running unsuccessfully for the united states house of representatives in 2000in 2004 obama received national attention during his campaign to represent illinois in the united states senate with his victory in the march democratic party primary his keynote address at the democratic national convention in july and his election to the senate in november he began his presidential campaign in 2007 and after a close primary campaign against hillary rodham clinton in 2008 he won sufficient delegates in the democratic party primaries to receive the presidential nomination he then defeated republican nominee john mccain in the general election and was inaugurated as president on january 20 2009 nine months after his election obama was named the 2009 nobel peace prize laureateduring his first two years in office obama signed into law economic stimulus legislation in response to the great recession in the form of the american recovery and reinvestment act of 2009 and the tax relief unemployment insurance reauthorization and job creation act of 2010 other major domestic initiatives in his first term included the patient protection and affordable care act often referred to as obamacare the doddfrank wall street reform and consumer protection act and the dont ask dont tell repeal act of 2010 in foreign policy obama ended us military involvement in the iraq war increased us troop levels in afghanistan signed the new start arms control treaty with russia ordered us military involvement in libya and ordered the military operation that resulted in the death of osama bin laden in january 2011 the republicans regained control of the house of representatives as the democratic party lost a total of 63 seats and after a lengthy debate over federal spending and whether or not to raise the nations debt limit obama signed the budget control act of 2011 and the american taxpayer relief act of 2012obama was reelected president in november 2012 defeating republican nominee mitt romney and was sworn in for a second term on january 20 2013 during his second term obama has promoted domestic policies related to gun control in response to the sandy hook elementary school shooting and has called for full equality for lgbt americans while his administration has filed briefs which urged the supreme court to strike down the defense of marriage act of 1996 and californias proposition 8 as unconstitutional in foreign policy obama ordered us military involvement in iraq in response to gains made by the islamic state in iraq after the 2011 withdrawal from iraq continued the process of ending us combat operations in afghanistan and has sought to normalize us relations with cuba'"
      ]
     },
     "execution_count": 12,
     "metadata": {},
     "output_type": "execute_result"
    }
   ],
   "source": [
    "obama['text'].values[0]"
   ]
  },
  {
   "cell_type": "code",
   "execution_count": 11,
   "metadata": {},
   "outputs": [
    {
     "data": {
      "text/plain": [
       "'george timothy clooney born may 6 1961 is an american actor writer producer director and activist he has received three golden globe awards for his work as an actor and two academy awards one for acting and the other for producingclooney made his acting debut on television in 1978 and later gained wide recognition in his role as dr doug ross on the longrunning medical drama er from 1994 to 1999 for which he received two emmy award nominations while working on er he began attracting a variety of leading roles in films including the superhero film batman robin 1997 and the crime comedy out of sight 1998 in which he first worked with a director who would become a longtime collaborator steven soderbergh in 1999 clooney took the lead role in three kings a wellreceived war satire set during the gulf warin 2001 clooneys fame widened with the release of his biggest commercial success the heist comedy oceans eleven the first of the film trilogy a remake of the 1960 film with frank sinatra as danny ocean he made his directorial debut a year later with the biographical thriller confessions of a dangerous mind and has since directed the drama good night and good luck 2005 the sports comedy leatherheads 2008 the political drama the ides of march 2011 and the comedydrama war film the monuments men 2014he won an academy award for best supporting actor for the middle east thriller syriana 2005 and subsequently earned best actor nominations for the legal thriller michael clayton 2007 the comedydrama up in the air 2009 and the drama the descendants 2011 in 2013 he received the academy award for best picture for producing the political thriller argo alongside ben affleck and grant heslov he is the only person ever to be nominated for academy awards in six categoriesclooney is sometimes described as one of the most handsome men in the world in 2005 tv guide ranked clooney no 1 on its 50 sexiest stars of all time list in 2009 he was included in times annual time 100 as one of the most influential people in the world clooney is also noted for his political activism and has served as one of the united nations messengers of peace since january 31 2008 his humanitarian work includes his advocacy of finding a resolution for the darfur conflict raising funds for the 2010 haiti earthquake 2004 tsunami and 911 victims and creating documentaries such as sand and sorrow to raise awareness about international crises he is also a member of the council on foreign relations'"
      ]
     },
     "execution_count": 11,
     "metadata": {},
     "output_type": "execute_result"
    }
   ],
   "source": [
    "clooney = people[people['name'] == 'George Clooney']\n",
    "clooney['text'].values[0]"
   ]
  },
  {
   "cell_type": "code",
   "execution_count": 17,
   "metadata": {},
   "outputs": [],
   "source": [
    "def word_count_function(string):\n",
    "  count = {}\n",
    "  for word in string.strip().split():\n",
    "    count[word] = count.get(word, 0) + 1\n",
    "  return count\n",
    "obama_word_count = obama['text'].map(word_count_function)\n"
   ]
  },
  {
   "cell_type": "code",
   "execution_count": 22,
   "metadata": {},
   "outputs": [
    {
     "data": {
      "text/plain": [
       "dict_items([('barack', 1), ('hussein', 1), ('obama', 9), ('ii', 1), ('brk', 1), ('husen', 1), ('bm', 1), ('born', 2), ('august', 1), ('4', 1), ('1961', 1), ('is', 2), ('the', 40), ('44th', 1), ('and', 21), ('current', 1), ('president', 4), ('of', 18), ('united', 3), ('states', 3), ('first', 3), ('african', 1), ('american', 3), ('to', 14), ('hold', 1), ('office', 2), ('in', 30), ('honolulu', 1), ('hawaii', 1), ('a', 7), ('graduate', 1), ('columbia', 1), ('university', 2), ('harvard', 2), ('law', 6), ('school', 3), ('where', 1), ('he', 7), ('served', 2), ('as', 6), ('review', 1), ('was', 5), ('community', 1), ('organizer', 1), ('chicago', 2), ('before', 1), ('earning', 1), ('his', 11), ('degree', 1), ('worked', 1), ('civil', 1), ('rights', 1), ('attorney', 1), ('taught', 1), ('constitutional', 1), ('at', 2), ('from', 3), ('1992', 1), ('2004', 3), ('three', 1), ('terms', 1), ('representing', 1), ('13th', 1), ('district', 1), ('illinois', 2), ('senate', 3), ('1997', 1), ('running', 1), ('unsuccessfully', 1), ('for', 4), ('house', 2), ('representatives', 2), ('2000in', 1), ('received', 1), ('national', 2), ('attention', 1), ('during', 2), ('campaign', 3), ('represent', 1), ('with', 3), ('victory', 1), ('march', 1), ('democratic', 4), ('party', 3), ('primary', 2), ('keynote', 1), ('address', 1), ('convention', 1), ('july', 1), ('election', 3), ('november', 2), ('began', 1), ('presidential', 2), ('2007', 1), ('after', 4), ('close', 1), ('against', 1), ('hillary', 1), ('rodham', 1), ('clinton', 1), ('2008', 1), ('won', 1), ('sufficient', 1), ('delegates', 1), ('primaries', 1), ('receive', 1), ('nomination', 1), ('then', 1), ('defeated', 1), ('republican', 2), ('nominee', 2), ('john', 1), ('mccain', 1), ('general', 1), ('inaugurated', 1), ('on', 2), ('january', 3), ('20', 2), ('2009', 3), ('nine', 1), ('months', 1), ('named', 1), ('nobel', 1), ('peace', 1), ('prize', 1), ('laureateduring', 1), ('two', 1), ('years', 1), ('signed', 3), ('into', 1), ('economic', 1), ('stimulus', 1), ('legislation', 1), ('response', 3), ('great', 1), ('recession', 1), ('form', 1), ('recovery', 1), ('reinvestment', 1), ('act', 8), ('tax', 1), ('relief', 2), ('unemployment', 1), ('insurance', 1), ('reauthorization', 1), ('job', 1), ('creation', 1), ('2010', 2), ('other', 1), ('major', 1), ('domestic', 2), ('initiatives', 1), ('term', 3), ('included', 1), ('patient', 1), ('protection', 2), ('affordable', 1), ('care', 1), ('often', 1), ('referred', 1), ('obamacare', 1), ('doddfrank', 1), ('wall', 1), ('street', 1), ('reform', 1), ('consumer', 1), ('dont', 2), ('ask', 1), ('tell', 1), ('repeal', 1), ('foreign', 2), ('policy', 2), ('ended', 1), ('us', 6), ('military', 4), ('involvement', 3), ('iraq', 4), ('war', 1), ('increased', 1), ('troop', 1), ('levels', 1), ('afghanistan', 2), ('new', 1), ('start', 1), ('arms', 1), ('control', 4), ('treaty', 1), ('russia', 1), ('ordered', 3), ('libya', 1), ('operation', 1), ('that', 1), ('resulted', 1), ('death', 1), ('osama', 1), ('bin', 1), ('laden', 1), ('2011', 3), ('republicans', 1), ('regained', 1), ('lost', 1), ('total', 1), ('63', 1), ('seats', 1), ('lengthy', 1), ('debate', 1), ('over', 1), ('federal', 1), ('spending', 1), ('whether', 1), ('or', 1), ('not', 1), ('raise', 1), ('nations', 1), ('debt', 1), ('limit', 1), ('budget', 1), ('taxpayer', 1), ('2012obama', 1), ('reelected', 1), ('2012', 1), ('defeating', 1), ('mitt', 1), ('romney', 1), ('sworn', 1), ('second', 2), ('2013', 1), ('has', 4), ('promoted', 1), ('policies', 1), ('related', 1), ('gun', 1), ('sandy', 1), ('hook', 1), ('elementary', 1), ('shooting', 1), ('called', 1), ('full', 1), ('equality', 1), ('lgbt', 1), ('americans', 1), ('while', 1), ('administration', 1), ('filed', 1), ('briefs', 1), ('which', 1), ('urged', 1), ('supreme', 1), ('court', 1), ('strike', 1), ('down', 1), ('defense', 1), ('marriage', 1), ('1996', 1), ('californias', 1), ('proposition', 1), ('8', 1), ('unconstitutional', 1), ('gains', 1), ('made', 1), ('by', 1), ('islamic', 1), ('state', 1), ('withdrawal', 1), ('continued', 1), ('process', 1), ('ending', 1), ('combat', 1), ('operations', 1), ('sought', 1), ('normalize', 1), ('relations', 1), ('cuba', 1)])"
      ]
     },
     "execution_count": 22,
     "metadata": {},
     "output_type": "execute_result"
    }
   ],
   "source": [
    "obama_word_count.values[0].items()"
   ]
  },
  {
   "cell_type": "code",
   "execution_count": 29,
   "metadata": {
    "scrolled": true
   },
   "outputs": [
    {
     "name": "stdout",
     "output_type": "stream",
     "text": [
      "{'barack': 1, 'hussein': 1, 'obama': 9, 'ii': 1, 'brk': 1, 'husen': 1, 'bm': 1, 'born': 2, 'august': 1, '4': 1, '1961': 1, 'is': 2, 'the': 40, '44th': 1, 'and': 21, 'current': 1, 'president': 4, 'of': 18, 'united': 3, 'states': 3, 'first': 3, 'african': 1, 'american': 3, 'to': 14, 'hold': 1, 'office': 2, 'in': 30, 'honolulu': 1, 'hawaii': 1, 'a': 7, 'graduate': 1, 'columbia': 1, 'university': 2, 'harvard': 2, 'law': 6, 'school': 3, 'where': 1, 'he': 7, 'served': 2, 'as': 6, 'review': 1, 'was': 5, 'community': 1, 'organizer': 1, 'chicago': 2, 'before': 1, 'earning': 1, 'his': 11, 'degree': 1, 'worked': 1, 'civil': 1, 'rights': 1, 'attorney': 1, 'taught': 1, 'constitutional': 1, 'at': 2, 'from': 3, '1992': 1, '2004': 3, 'three': 1, 'terms': 1, 'representing': 1, '13th': 1, 'district': 1, 'illinois': 2, 'senate': 3, '1997': 1, 'running': 1, 'unsuccessfully': 1, 'for': 4, 'house': 2, 'representatives': 2, '2000in': 1, 'received': 1, 'national': 2, 'attention': 1, 'during': 2, 'campaign': 3, 'represent': 1, 'with': 3, 'victory': 1, 'march': 1, 'democratic': 4, 'party': 3, 'primary': 2, 'keynote': 1, 'address': 1, 'convention': 1, 'july': 1, 'election': 3, 'november': 2, 'began': 1, 'presidential': 2, '2007': 1, 'after': 4, 'close': 1, 'against': 1, 'hillary': 1, 'rodham': 1, 'clinton': 1, '2008': 1, 'won': 1, 'sufficient': 1, 'delegates': 1, 'primaries': 1, 'receive': 1, 'nomination': 1, 'then': 1, 'defeated': 1, 'republican': 2, 'nominee': 2, 'john': 1, 'mccain': 1, 'general': 1, 'inaugurated': 1, 'on': 2, 'january': 3, '20': 2, '2009': 3, 'nine': 1, 'months': 1, 'named': 1, 'nobel': 1, 'peace': 1, 'prize': 1, 'laureateduring': 1, 'two': 1, 'years': 1, 'signed': 3, 'into': 1, 'economic': 1, 'stimulus': 1, 'legislation': 1, 'response': 3, 'great': 1, 'recession': 1, 'form': 1, 'recovery': 1, 'reinvestment': 1, 'act': 8, 'tax': 1, 'relief': 2, 'unemployment': 1, 'insurance': 1, 'reauthorization': 1, 'job': 1, 'creation': 1, '2010': 2, 'other': 1, 'major': 1, 'domestic': 2, 'initiatives': 1, 'term': 3, 'included': 1, 'patient': 1, 'protection': 2, 'affordable': 1, 'care': 1, 'often': 1, 'referred': 1, 'obamacare': 1, 'doddfrank': 1, 'wall': 1, 'street': 1, 'reform': 1, 'consumer': 1, 'dont': 2, 'ask': 1, 'tell': 1, 'repeal': 1, 'foreign': 2, 'policy': 2, 'ended': 1, 'us': 6, 'military': 4, 'involvement': 3, 'iraq': 4, 'war': 1, 'increased': 1, 'troop': 1, 'levels': 1, 'afghanistan': 2, 'new': 1, 'start': 1, 'arms': 1, 'control': 4, 'treaty': 1, 'russia': 1, 'ordered': 3, 'libya': 1, 'operation': 1, 'that': 1, 'resulted': 1, 'death': 1, 'osama': 1, 'bin': 1, 'laden': 1, '2011': 3, 'republicans': 1, 'regained': 1, 'lost': 1, 'total': 1, '63': 1, 'seats': 1, 'lengthy': 1, 'debate': 1, 'over': 1, 'federal': 1, 'spending': 1, 'whether': 1, 'or': 1, 'not': 1, 'raise': 1, 'nations': 1, 'debt': 1, 'limit': 1, 'budget': 1, 'taxpayer': 1, '2012obama': 1, 'reelected': 1, '2012': 1, 'defeating': 1, 'mitt': 1, 'romney': 1, 'sworn': 1, 'second': 2, '2013': 1, 'has': 4, 'promoted': 1, 'policies': 1, 'related': 1, 'gun': 1, 'sandy': 1, 'hook': 1, 'elementary': 1, 'shooting': 1, 'called': 1, 'full': 1, 'equality': 1, 'lgbt': 1, 'americans': 1, 'while': 1, 'administration': 1, 'filed': 1, 'briefs': 1, 'which': 1, 'urged': 1, 'supreme': 1, 'court': 1, 'strike': 1, 'down': 1, 'defense': 1, 'marriage': 1, '1996': 1, 'californias': 1, 'proposition': 1, '8': 1, 'unconstitutional': 1, 'gains': 1, 'made': 1, 'by': 1, 'islamic': 1, 'state': 1, 'withdrawal': 1, 'continued': 1, 'process': 1, 'ending': 1, 'combat': 1, 'operations': 1, 'sought': 1, 'normalize': 1, 'relations': 1, 'cuba': 1}\n",
      "<class 'dict'>\n",
      "[{'barack': 1, 'hussein': 1, 'obama': 9, 'ii': 1, 'brk': 1, 'husen': 1, 'bm': 1, 'born': 2, 'august': 1, '4': 1, '1961': 1, 'is': 2, 'the': 40, '44th': 1, 'and': 21, 'current': 1, 'president': 4, 'of': 18, 'united': 3, 'states': 3, 'first': 3, 'african': 1, 'american': 3, 'to': 14, 'hold': 1, 'office': 2, 'in': 30, 'honolulu': 1, 'hawaii': 1, 'a': 7, 'graduate': 1, 'columbia': 1, 'university': 2, 'harvard': 2, 'law': 6, 'school': 3, 'where': 1, 'he': 7, 'served': 2, 'as': 6, 'review': 1, 'was': 5, 'community': 1, 'organizer': 1, 'chicago': 2, 'before': 1, 'earning': 1, 'his': 11, 'degree': 1, 'worked': 1, 'civil': 1, 'rights': 1, 'attorney': 1, 'taught': 1, 'constitutional': 1, 'at': 2, 'from': 3, '1992': 1, '2004': 3, 'three': 1, 'terms': 1, 'representing': 1, '13th': 1, 'district': 1, 'illinois': 2, 'senate': 3, '1997': 1, 'running': 1, 'unsuccessfully': 1, 'for': 4, 'house': 2, 'representatives': 2, '2000in': 1, 'received': 1, 'national': 2, 'attention': 1, 'during': 2, 'campaign': 3, 'represent': 1, 'with': 3, 'victory': 1, 'march': 1, 'democratic': 4, 'party': 3, 'primary': 2, 'keynote': 1, 'address': 1, 'convention': 1, 'july': 1, 'election': 3, 'november': 2, 'began': 1, 'presidential': 2, '2007': 1, 'after': 4, 'close': 1, 'against': 1, 'hillary': 1, 'rodham': 1, 'clinton': 1, '2008': 1, 'won': 1, 'sufficient': 1, 'delegates': 1, 'primaries': 1, 'receive': 1, 'nomination': 1, 'then': 1, 'defeated': 1, 'republican': 2, 'nominee': 2, 'john': 1, 'mccain': 1, 'general': 1, 'inaugurated': 1, 'on': 2, 'january': 3, '20': 2, '2009': 3, 'nine': 1, 'months': 1, 'named': 1, 'nobel': 1, 'peace': 1, 'prize': 1, 'laureateduring': 1, 'two': 1, 'years': 1, 'signed': 3, 'into': 1, 'economic': 1, 'stimulus': 1, 'legislation': 1, 'response': 3, 'great': 1, 'recession': 1, 'form': 1, 'recovery': 1, 'reinvestment': 1, 'act': 8, 'tax': 1, 'relief': 2, 'unemployment': 1, 'insurance': 1, 'reauthorization': 1, 'job': 1, 'creation': 1, '2010': 2, 'other': 1, 'major': 1, 'domestic': 2, 'initiatives': 1, 'term': 3, 'included': 1, 'patient': 1, 'protection': 2, 'affordable': 1, 'care': 1, 'often': 1, 'referred': 1, 'obamacare': 1, 'doddfrank': 1, 'wall': 1, 'street': 1, 'reform': 1, 'consumer': 1, 'dont': 2, 'ask': 1, 'tell': 1, 'repeal': 1, 'foreign': 2, 'policy': 2, 'ended': 1, 'us': 6, 'military': 4, 'involvement': 3, 'iraq': 4, 'war': 1, 'increased': 1, 'troop': 1, 'levels': 1, 'afghanistan': 2, 'new': 1, 'start': 1, 'arms': 1, 'control': 4, 'treaty': 1, 'russia': 1, 'ordered': 3, 'libya': 1, 'operation': 1, 'that': 1, 'resulted': 1, 'death': 1, 'osama': 1, 'bin': 1, 'laden': 1, '2011': 3, 'republicans': 1, 'regained': 1, 'lost': 1, 'total': 1, '63': 1, 'seats': 1, 'lengthy': 1, 'debate': 1, 'over': 1, 'federal': 1, 'spending': 1, 'whether': 1, 'or': 1, 'not': 1, 'raise': 1, 'nations': 1, 'debt': 1, 'limit': 1, 'budget': 1, 'taxpayer': 1, '2012obama': 1, 'reelected': 1, '2012': 1, 'defeating': 1, 'mitt': 1, 'romney': 1, 'sworn': 1, 'second': 2, '2013': 1, 'has': 4, 'promoted': 1, 'policies': 1, 'related': 1, 'gun': 1, 'sandy': 1, 'hook': 1, 'elementary': 1, 'shooting': 1, 'called': 1, 'full': 1, 'equality': 1, 'lgbt': 1, 'americans': 1, 'while': 1, 'administration': 1, 'filed': 1, 'briefs': 1, 'which': 1, 'urged': 1, 'supreme': 1, 'court': 1, 'strike': 1, 'down': 1, 'defense': 1, 'marriage': 1, '1996': 1, 'californias': 1, 'proposition': 1, '8': 1, 'unconstitutional': 1, 'gains': 1, 'made': 1, 'by': 1, 'islamic': 1, 'state': 1, 'withdrawal': 1, 'continued': 1, 'process': 1, 'ending': 1, 'combat': 1, 'operations': 1, 'sought': 1, 'normalize': 1, 'relations': 1, 'cuba': 1}]\n",
      "<class 'numpy.ndarray'>\n"
     ]
    }
   ],
   "source": [
    "print(obama_word_count.values[0])\n",
    "print(type(obama_word_count.values[0]))\n",
    "print(obama_word_count.values)\n",
    "print(type(obama_word_count.values))"
   ]
  },
  {
   "cell_type": "code",
   "execution_count": 14,
   "metadata": {},
   "outputs": [],
   "source": [
    "obama_word_count_table = pandas.DataFrame.from_dict(obama_word_count.values[0], orient=\"index\", columns=[\"count\"])"
   ]
  },
  {
   "cell_type": "markdown",
   "metadata": {},
   "source": [
    "obama_word_count_table.head()"
   ]
  },
  {
   "cell_type": "code",
   "execution_count": 15,
   "metadata": {},
   "outputs": [
    {
     "data": {
      "text/html": [
       "<div>\n",
       "<style scoped>\n",
       "    .dataframe tbody tr th:only-of-type {\n",
       "        vertical-align: middle;\n",
       "    }\n",
       "\n",
       "    .dataframe tbody tr th {\n",
       "        vertical-align: top;\n",
       "    }\n",
       "\n",
       "    .dataframe thead th {\n",
       "        text-align: right;\n",
       "    }\n",
       "</style>\n",
       "<table border=\"1\" class=\"dataframe\">\n",
       "  <thead>\n",
       "    <tr style=\"text-align: right;\">\n",
       "      <th></th>\n",
       "      <th>count</th>\n",
       "    </tr>\n",
       "  </thead>\n",
       "  <tbody>\n",
       "    <tr>\n",
       "      <td>barack</td>\n",
       "      <td>1</td>\n",
       "    </tr>\n",
       "    <tr>\n",
       "      <td>hussein</td>\n",
       "      <td>1</td>\n",
       "    </tr>\n",
       "    <tr>\n",
       "      <td>obama</td>\n",
       "      <td>9</td>\n",
       "    </tr>\n",
       "    <tr>\n",
       "      <td>ii</td>\n",
       "      <td>1</td>\n",
       "    </tr>\n",
       "    <tr>\n",
       "      <td>brk</td>\n",
       "      <td>1</td>\n",
       "    </tr>\n",
       "  </tbody>\n",
       "</table>\n",
       "</div>"
      ],
      "text/plain": [
       "         count\n",
       "barack       1\n",
       "hussein      1\n",
       "obama        9\n",
       "ii           1\n",
       "brk          1"
      ]
     },
     "execution_count": 15,
     "metadata": {},
     "output_type": "execute_result"
    }
   ],
   "source": [
    "obama_word_count_table.head()"
   ]
  },
  {
   "cell_type": "code",
   "execution_count": 17,
   "metadata": {},
   "outputs": [
    {
     "data": {
      "text/html": [
       "<div>\n",
       "<style scoped>\n",
       "    .dataframe tbody tr th:only-of-type {\n",
       "        vertical-align: middle;\n",
       "    }\n",
       "\n",
       "    .dataframe tbody tr th {\n",
       "        vertical-align: top;\n",
       "    }\n",
       "\n",
       "    .dataframe thead th {\n",
       "        text-align: right;\n",
       "    }\n",
       "</style>\n",
       "<table border=\"1\" class=\"dataframe\">\n",
       "  <thead>\n",
       "    <tr style=\"text-align: right;\">\n",
       "      <th></th>\n",
       "      <th>count</th>\n",
       "    </tr>\n",
       "  </thead>\n",
       "  <tbody>\n",
       "    <tr>\n",
       "      <td>the</td>\n",
       "      <td>40</td>\n",
       "    </tr>\n",
       "    <tr>\n",
       "      <td>in</td>\n",
       "      <td>30</td>\n",
       "    </tr>\n",
       "    <tr>\n",
       "      <td>and</td>\n",
       "      <td>21</td>\n",
       "    </tr>\n",
       "    <tr>\n",
       "      <td>of</td>\n",
       "      <td>18</td>\n",
       "    </tr>\n",
       "    <tr>\n",
       "      <td>to</td>\n",
       "      <td>14</td>\n",
       "    </tr>\n",
       "    <tr>\n",
       "      <td>...</td>\n",
       "      <td>...</td>\n",
       "    </tr>\n",
       "    <tr>\n",
       "      <td>laureateduring</td>\n",
       "      <td>1</td>\n",
       "    </tr>\n",
       "    <tr>\n",
       "      <td>two</td>\n",
       "      <td>1</td>\n",
       "    </tr>\n",
       "    <tr>\n",
       "      <td>years</td>\n",
       "      <td>1</td>\n",
       "    </tr>\n",
       "    <tr>\n",
       "      <td>into</td>\n",
       "      <td>1</td>\n",
       "    </tr>\n",
       "    <tr>\n",
       "      <td>cuba</td>\n",
       "      <td>1</td>\n",
       "    </tr>\n",
       "  </tbody>\n",
       "</table>\n",
       "<p>273 rows × 1 columns</p>\n",
       "</div>"
      ],
      "text/plain": [
       "                count\n",
       "the                40\n",
       "in                 30\n",
       "and                21\n",
       "of                 18\n",
       "to                 14\n",
       "...               ...\n",
       "laureateduring      1\n",
       "two                 1\n",
       "years               1\n",
       "into                1\n",
       "cuba                1\n",
       "\n",
       "[273 rows x 1 columns]"
      ]
     },
     "execution_count": 17,
     "metadata": {},
     "output_type": "execute_result"
    }
   ],
   "source": [
    "obama_word_count_table.sort_values('count',ascending=False)"
   ]
  },
  {
   "cell_type": "code",
   "execution_count": 18,
   "metadata": {
    "scrolled": true
   },
   "outputs": [
    {
     "data": {
      "text/html": [
       "<div>\n",
       "<style scoped>\n",
       "    .dataframe tbody tr th:only-of-type {\n",
       "        vertical-align: middle;\n",
       "    }\n",
       "\n",
       "    .dataframe tbody tr th {\n",
       "        vertical-align: top;\n",
       "    }\n",
       "\n",
       "    .dataframe thead th {\n",
       "        text-align: right;\n",
       "    }\n",
       "</style>\n",
       "<table border=\"1\" class=\"dataframe\">\n",
       "  <thead>\n",
       "    <tr style=\"text-align: right;\">\n",
       "      <th></th>\n",
       "      <th>URI</th>\n",
       "      <th>name</th>\n",
       "      <th>text</th>\n",
       "      <th>word_count</th>\n",
       "    </tr>\n",
       "  </thead>\n",
       "  <tbody>\n",
       "    <tr>\n",
       "      <td>0</td>\n",
       "      <td>&lt;http://dbpedia.org/resource/Digby_Morrell&gt;</td>\n",
       "      <td>Digby Morrell</td>\n",
       "      <td>digby morrell born 10 october 1979 is a former...</td>\n",
       "      <td>{'digby': 1, 'morrell': 5, 'born': 1, '10': 1,...</td>\n",
       "    </tr>\n",
       "    <tr>\n",
       "      <td>1</td>\n",
       "      <td>&lt;http://dbpedia.org/resource/Alfred_J._Lewy&gt;</td>\n",
       "      <td>Alfred J. Lewy</td>\n",
       "      <td>alfred j lewy aka sandy lewy graduated from un...</td>\n",
       "      <td>{'alfred': 1, 'j': 1, 'lewy': 3, 'aka': 1, 'sa...</td>\n",
       "    </tr>\n",
       "    <tr>\n",
       "      <td>2</td>\n",
       "      <td>&lt;http://dbpedia.org/resource/Harpdog_Brown&gt;</td>\n",
       "      <td>Harpdog Brown</td>\n",
       "      <td>harpdog brown is a singer and harmonica player...</td>\n",
       "      <td>{'harpdog': 2, 'brown': 2, 'is': 7, 'a': 7, 's...</td>\n",
       "    </tr>\n",
       "    <tr>\n",
       "      <td>3</td>\n",
       "      <td>&lt;http://dbpedia.org/resource/Franz_Rottensteiner&gt;</td>\n",
       "      <td>Franz Rottensteiner</td>\n",
       "      <td>franz rottensteiner born in waidmannsfeld lowe...</td>\n",
       "      <td>{'franz': 1, 'rottensteiner': 3, 'born': 1, 'i...</td>\n",
       "    </tr>\n",
       "    <tr>\n",
       "      <td>4</td>\n",
       "      <td>&lt;http://dbpedia.org/resource/G-Enka&gt;</td>\n",
       "      <td>G-Enka</td>\n",
       "      <td>henry krvits born 30 december 1974 in tallinn ...</td>\n",
       "      <td>{'henry': 1, 'krvits': 1, 'born': 1, '30': 1, ...</td>\n",
       "    </tr>\n",
       "  </tbody>\n",
       "</table>\n",
       "</div>"
      ],
      "text/plain": [
       "                                                 URI                 name  \\\n",
       "0        <http://dbpedia.org/resource/Digby_Morrell>        Digby Morrell   \n",
       "1       <http://dbpedia.org/resource/Alfred_J._Lewy>       Alfred J. Lewy   \n",
       "2        <http://dbpedia.org/resource/Harpdog_Brown>        Harpdog Brown   \n",
       "3  <http://dbpedia.org/resource/Franz_Rottensteiner>  Franz Rottensteiner   \n",
       "4               <http://dbpedia.org/resource/G-Enka>               G-Enka   \n",
       "\n",
       "                                                text  \\\n",
       "0  digby morrell born 10 october 1979 is a former...   \n",
       "1  alfred j lewy aka sandy lewy graduated from un...   \n",
       "2  harpdog brown is a singer and harmonica player...   \n",
       "3  franz rottensteiner born in waidmannsfeld lowe...   \n",
       "4  henry krvits born 30 december 1974 in tallinn ...   \n",
       "\n",
       "                                          word_count  \n",
       "0  {'digby': 1, 'morrell': 5, 'born': 1, '10': 1,...  \n",
       "1  {'alfred': 1, 'j': 1, 'lewy': 3, 'aka': 1, 'sa...  \n",
       "2  {'harpdog': 2, 'brown': 2, 'is': 7, 'a': 7, 's...  \n",
       "3  {'franz': 1, 'rottensteiner': 3, 'born': 1, 'i...  \n",
       "4  {'henry': 1, 'krvits': 1, 'born': 1, '30': 1, ...  "
      ]
     },
     "execution_count": 18,
     "metadata": {},
     "output_type": "execute_result"
    }
   ],
   "source": [
    "people['word_count'] = people['text'].map(word_count_function)\n",
    "people.head()"
   ]
  },
  {
   "cell_type": "code",
   "execution_count": 23,
   "metadata": {},
   "outputs": [],
   "source": [
    "#With Tfidfvectorizer you compute the word counts, idf and tf-idf values all at once.\n",
    "from sklearn.feature_extraction.text import TfidfVectorizer\n",
    "#create a Tfidfvectorizer compute the word counts, idf and tf-idf values all at once \n",
    "tfidf_vectorizer = TfidfVectorizer(stop_words=\"english\")\n",
    "#  Transforms the data into a bag of words and calculate the TF-IDF score for the text\n",
    "people_tfidf = tfidf_vectorizer.fit_transform(people['text'])\n"
   ]
  },
  {
   "cell_type": "code",
   "execution_count": 20,
   "metadata": {},
   "outputs": [],
   "source": [
    "obama =people[people['name']=='Barack Obama']"
   ]
  },
  {
   "cell_type": "code",
   "execution_count": 21,
   "metadata": {},
   "outputs": [
    {
     "data": {
      "text/html": [
       "<div>\n",
       "<style scoped>\n",
       "    .dataframe tbody tr th:only-of-type {\n",
       "        vertical-align: middle;\n",
       "    }\n",
       "\n",
       "    .dataframe tbody tr th {\n",
       "        vertical-align: top;\n",
       "    }\n",
       "\n",
       "    .dataframe thead th {\n",
       "        text-align: right;\n",
       "    }\n",
       "</style>\n",
       "<table border=\"1\" class=\"dataframe\">\n",
       "  <thead>\n",
       "    <tr style=\"text-align: right;\">\n",
       "      <th></th>\n",
       "      <th>URI</th>\n",
       "      <th>name</th>\n",
       "      <th>text</th>\n",
       "      <th>word_count</th>\n",
       "    </tr>\n",
       "  </thead>\n",
       "  <tbody>\n",
       "    <tr>\n",
       "      <td>35817</td>\n",
       "      <td>&lt;http://dbpedia.org/resource/Barack_Obama&gt;</td>\n",
       "      <td>Barack Obama</td>\n",
       "      <td>barack hussein obama ii brk husen bm born augu...</td>\n",
       "      <td>{'barack': 1, 'hussein': 1, 'obama': 9, 'ii': ...</td>\n",
       "    </tr>\n",
       "  </tbody>\n",
       "</table>\n",
       "</div>"
      ],
      "text/plain": [
       "                                              URI          name  \\\n",
       "35817  <http://dbpedia.org/resource/Barack_Obama>  Barack Obama   \n",
       "\n",
       "                                                    text  \\\n",
       "35817  barack hussein obama ii brk husen bm born augu...   \n",
       "\n",
       "                                              word_count  \n",
       "35817  {'barack': 1, 'hussein': 1, 'obama': 9, 'ii': ...  "
      ]
     },
     "execution_count": 21,
     "metadata": {},
     "output_type": "execute_result"
    }
   ],
   "source": [
    "obama"
   ]
  },
  {
   "cell_type": "code",
   "execution_count": 25,
   "metadata": {},
   "outputs": [
    {
     "name": "stdout",
     "output_type": "stream",
     "text": [
      "  (0, 322918)\t0.05308254643727061\n",
      "  (0, 130913)\t0.027795544835545537\n",
      "  (0, 373109)\t0.07060247410892721\n",
      "  (0, 174771)\t0.03742390918966249\n",
      "  (0, 383207)\t0.0542700124339163\n",
      "  (0, 482852)\t0.051770410651786454\n",
      "  (0, 147428)\t0.028617227269444004\n",
      "  (0, 174196)\t0.12255687612682609\n",
      "  (0, 129366)\t0.09559038803738366\n",
      "  (0, 128892)\t0.0541700843509251\n",
      "  (0, 27213)\t0.03480557660145588\n",
      "  (0, 394842)\t0.06014654630415581\n",
      "  (0, 164205)\t0.04113331980526983\n",
      "  (0, 394807)\t0.05074407036053547\n",
      "  (0, 25312)\t0.029325352107211045\n",
      "  (0, 163788)\t0.04095821011917798\n",
      "  (0, 184443)\t0.07607091014079385\n",
      "  (0, 470165)\t0.10311249965891885\n",
      "  (0, 26651)\t0.03206215198258099\n",
      "  (0, 23789)\t0.027828860445736917\n",
      "  (0, 418176)\t0.05223469943131137\n",
      "  (0, 233153)\t0.0708309480873859\n",
      "  (0, 238152)\t0.052020451818608295\n",
      "  (0, 97831)\t0.06049721051635956\n",
      "  (0, 447523)\t0.07194870748679201\n",
      "  :\t:\n",
      "  (59070, 221273)\t0.03822986047891974\n",
      "  (59070, 407537)\t0.06934345407998682\n",
      "  (59070, 365685)\t0.051790318896409525\n",
      "  (59070, 224828)\t0.1024167685944011\n",
      "  (59070, 293218)\t0.048612720037428184\n",
      "  (59070, 391933)\t0.05021948122330615\n",
      "  (59070, 482857)\t0.04734833253735749\n",
      "  (59070, 416105)\t0.10674654428424149\n",
      "  (59070, 191527)\t0.03789100288305972\n",
      "  (59070, 481988)\t0.04449319995755075\n",
      "  (59070, 155328)\t0.06842469237070083\n",
      "  (59070, 418361)\t0.03727964727082714\n",
      "  (59070, 302271)\t0.04142317693408345\n",
      "  (59070, 396740)\t0.05559835116451443\n",
      "  (59070, 357210)\t0.03956345124451919\n",
      "  (59070, 263746)\t0.0667198586427797\n",
      "  (59070, 107782)\t0.03559186557890622\n",
      "  (59070, 414744)\t0.034775210228923825\n",
      "  (59070, 466577)\t0.06530918202691748\n",
      "  (59070, 509144)\t0.05937894750366788\n",
      "  (59070, 434804)\t0.05263982871204118\n",
      "  (59070, 509445)\t0.02135864816493231\n",
      "  (59070, 130913)\t0.029613681880755503\n",
      "  (59070, 22237)\t0.02876604518305057\n",
      "  (59070, 528963)\t0.12495220684053801\n"
     ]
    }
   ],
   "source": [
    "print(people_tfidf)"
   ]
  },
  {
   "cell_type": "code",
   "execution_count": 24,
   "metadata": {},
   "outputs": [
    {
     "name": "stdout",
     "output_type": "stream",
     "text": [
      "dict_items([('barack', 1), ('hussein', 1), ('obama', 9), ('ii', 1), ('brk', 1), ('husen', 1), ('bm', 1), ('born', 2), ('august', 1), ('4', 1), ('1961', 1), ('is', 2), ('the', 40), ('44th', 1), ('and', 21), ('current', 1), ('president', 4), ('of', 18), ('united', 3), ('states', 3), ('first', 3), ('african', 1), ('american', 3), ('to', 14), ('hold', 1), ('office', 2), ('in', 30), ('honolulu', 1), ('hawaii', 1), ('a', 7), ('graduate', 1), ('columbia', 1), ('university', 2), ('harvard', 2), ('law', 6), ('school', 3), ('where', 1), ('he', 7), ('served', 2), ('as', 6), ('review', 1), ('was', 5), ('community', 1), ('organizer', 1), ('chicago', 2), ('before', 1), ('earning', 1), ('his', 11), ('degree', 1), ('worked', 1), ('civil', 1), ('rights', 1), ('attorney', 1), ('taught', 1), ('constitutional', 1), ('at', 2), ('from', 3), ('1992', 1), ('2004', 3), ('three', 1), ('terms', 1), ('representing', 1), ('13th', 1), ('district', 1), ('illinois', 2), ('senate', 3), ('1997', 1), ('running', 1), ('unsuccessfully', 1), ('for', 4), ('house', 2), ('representatives', 2), ('2000in', 1), ('received', 1), ('national', 2), ('attention', 1), ('during', 2), ('campaign', 3), ('represent', 1), ('with', 3), ('victory', 1), ('march', 1), ('democratic', 4), ('party', 3), ('primary', 2), ('keynote', 1), ('address', 1), ('convention', 1), ('july', 1), ('election', 3), ('november', 2), ('began', 1), ('presidential', 2), ('2007', 1), ('after', 4), ('close', 1), ('against', 1), ('hillary', 1), ('rodham', 1), ('clinton', 1), ('2008', 1), ('won', 1), ('sufficient', 1), ('delegates', 1), ('primaries', 1), ('receive', 1), ('nomination', 1), ('then', 1), ('defeated', 1), ('republican', 2), ('nominee', 2), ('john', 1), ('mccain', 1), ('general', 1), ('inaugurated', 1), ('on', 2), ('january', 3), ('20', 2), ('2009', 3), ('nine', 1), ('months', 1), ('named', 1), ('nobel', 1), ('peace', 1), ('prize', 1), ('laureateduring', 1), ('two', 1), ('years', 1), ('signed', 3), ('into', 1), ('economic', 1), ('stimulus', 1), ('legislation', 1), ('response', 3), ('great', 1), ('recession', 1), ('form', 1), ('recovery', 1), ('reinvestment', 1), ('act', 8), ('tax', 1), ('relief', 2), ('unemployment', 1), ('insurance', 1), ('reauthorization', 1), ('job', 1), ('creation', 1), ('2010', 2), ('other', 1), ('major', 1), ('domestic', 2), ('initiatives', 1), ('term', 3), ('included', 1), ('patient', 1), ('protection', 2), ('affordable', 1), ('care', 1), ('often', 1), ('referred', 1), ('obamacare', 1), ('doddfrank', 1), ('wall', 1), ('street', 1), ('reform', 1), ('consumer', 1), ('dont', 2), ('ask', 1), ('tell', 1), ('repeal', 1), ('foreign', 2), ('policy', 2), ('ended', 1), ('us', 6), ('military', 4), ('involvement', 3), ('iraq', 4), ('war', 1), ('increased', 1), ('troop', 1), ('levels', 1), ('afghanistan', 2), ('new', 1), ('start', 1), ('arms', 1), ('control', 4), ('treaty', 1), ('russia', 1), ('ordered', 3), ('libya', 1), ('operation', 1), ('that', 1), ('resulted', 1), ('death', 1), ('osama', 1), ('bin', 1), ('laden', 1), ('2011', 3), ('republicans', 1), ('regained', 1), ('lost', 1), ('total', 1), ('63', 1), ('seats', 1), ('lengthy', 1), ('debate', 1), ('over', 1), ('federal', 1), ('spending', 1), ('whether', 1), ('or', 1), ('not', 1), ('raise', 1), ('nations', 1), ('debt', 1), ('limit', 1), ('budget', 1), ('taxpayer', 1), ('2012obama', 1), ('reelected', 1), ('2012', 1), ('defeating', 1), ('mitt', 1), ('romney', 1), ('sworn', 1), ('second', 2), ('2013', 1), ('has', 4), ('promoted', 1), ('policies', 1), ('related', 1), ('gun', 1), ('sandy', 1), ('hook', 1), ('elementary', 1), ('shooting', 1), ('called', 1), ('full', 1), ('equality', 1), ('lgbt', 1), ('americans', 1), ('while', 1), ('administration', 1), ('filed', 1), ('briefs', 1), ('which', 1), ('urged', 1), ('supreme', 1), ('court', 1), ('strike', 1), ('down', 1), ('defense', 1), ('marriage', 1), ('1996', 1), ('californias', 1), ('proposition', 1), ('8', 1), ('unconstitutional', 1), ('gains', 1), ('made', 1), ('by', 1), ('islamic', 1), ('state', 1), ('withdrawal', 1), ('continued', 1), ('process', 1), ('ending', 1), ('combat', 1), ('operations', 1), ('sought', 1), ('normalize', 1), ('relations', 1), ('cuba', 1)])\n"
     ]
    }
   ],
   "source": [
    "print(obama_word_count.values[0].items())\n"
   ]
  },
  {
   "cell_type": "code",
   "execution_count": 25,
   "metadata": {},
   "outputs": [],
   "source": [
    "clinton = people[people['name'] == 'Bill Clinton']\n",
    "beckham = people[people['name'] == 'David Beckham']\n",
    "obama_tfidf = tfidf_vectorizer.transform(obama['text'])[0]\n",
    "clinton_tfidf = tfidf_vectorizer.transform(clinton['text'])[0]\n",
    "beckham_tfidf = tfidf_vectorizer.transform(beckham['text'])[0]"
   ]
  },
  {
   "cell_type": "code",
   "execution_count": 29,
   "metadata": {},
   "outputs": [
    {
     "name": "stdout",
     "output_type": "stream",
     "text": [
      "1\n",
      "1\n",
      "9\n",
      "1\n",
      "1\n",
      "1\n",
      "1\n",
      "2\n",
      "1\n",
      "1\n",
      "1\n",
      "1\n",
      "4\n",
      "3\n",
      "3\n",
      "1\n",
      "3\n",
      "1\n",
      "2\n",
      "1\n",
      "1\n",
      "1\n",
      "1\n",
      "2\n",
      "2\n",
      "6\n",
      "3\n",
      "2\n",
      "1\n",
      "1\n",
      "1\n",
      "2\n",
      "1\n",
      "1\n",
      "1\n",
      "1\n",
      "1\n",
      "1\n",
      "1\n",
      "1\n",
      "1\n",
      "3\n",
      "1\n",
      "1\n",
      "1\n",
      "1\n",
      "2\n",
      "3\n",
      "1\n",
      "1\n",
      "1\n",
      "2\n",
      "2\n",
      "1\n",
      "1\n",
      "2\n",
      "1\n",
      "3\n",
      "1\n",
      "1\n",
      "1\n",
      "4\n",
      "3\n",
      "2\n",
      "1\n",
      "1\n",
      "1\n",
      "1\n",
      "3\n",
      "2\n",
      "1\n",
      "2\n",
      "1\n",
      "1\n",
      "1\n",
      "1\n",
      "1\n",
      "1\n",
      "1\n",
      "1\n",
      "1\n",
      "1\n",
      "1\n",
      "1\n",
      "1\n",
      "2\n",
      "2\n",
      "1\n",
      "1\n",
      "1\n",
      "1\n",
      "3\n",
      "2\n",
      "3\n",
      "1\n",
      "1\n",
      "1\n",
      "1\n",
      "1\n",
      "1\n",
      "1\n",
      "3\n",
      "1\n",
      "1\n",
      "1\n",
      "3\n",
      "1\n",
      "1\n",
      "1\n",
      "1\n",
      "1\n",
      "8\n",
      "1\n",
      "2\n",
      "1\n",
      "1\n",
      "1\n",
      "1\n",
      "1\n",
      "2\n",
      "1\n",
      "2\n",
      "1\n",
      "3\n",
      "1\n",
      "1\n",
      "2\n",
      "1\n",
      "1\n",
      "1\n",
      "1\n",
      "1\n",
      "1\n",
      "1\n",
      "1\n",
      "1\n",
      "2\n",
      "1\n",
      "1\n",
      "1\n",
      "2\n",
      "2\n",
      "1\n",
      "4\n",
      "3\n",
      "4\n",
      "1\n",
      "1\n",
      "1\n",
      "1\n",
      "2\n",
      "1\n",
      "1\n",
      "1\n",
      "4\n",
      "1\n",
      "1\n",
      "3\n",
      "1\n",
      "1\n",
      "1\n",
      "1\n",
      "1\n",
      "1\n",
      "1\n",
      "3\n",
      "1\n",
      "1\n",
      "1\n",
      "1\n",
      "1\n",
      "1\n",
      "1\n",
      "1\n",
      "1\n",
      "1\n",
      "1\n",
      "1\n",
      "1\n",
      "1\n",
      "1\n",
      "1\n",
      "1\n",
      "1\n",
      "1\n",
      "1\n",
      "1\n",
      "1\n",
      "1\n",
      "2\n",
      "1\n",
      "1\n",
      "1\n",
      "1\n",
      "1\n",
      "1\n",
      "1\n",
      "1\n",
      "1\n",
      "1\n",
      "1\n",
      "1\n",
      "1\n",
      "1\n",
      "1\n",
      "1\n",
      "1\n",
      "1\n",
      "1\n",
      "1\n",
      "1\n",
      "1\n",
      "1\n",
      "1\n",
      "1\n",
      "1\n",
      "1\n",
      "1\n",
      "1\n",
      "1\n",
      "1\n",
      "1\n",
      "1\n",
      "1\n",
      "1\n",
      "1\n",
      "1\n",
      "1\n",
      "1\n"
     ]
    }
   ],
   "source": [
    "#obama = people[people['name'] == 'Barack Obama']\n",
    "tf_idf_values = tfidf_vectorizer.idf_\n",
    " # show the word-matrix position pairs\n",
    "tf_idf_vocab = tfidf_vectorizer.vocabulary_\n",
    "obama_words_tfidf_values = {k: count * tf_idf_values[tf_idf_vocab[k]] for k, count in obama_word_count.values[0].items() if k in tf_idf_vocab}\n",
    "for k, count in obama_word_count.values[0].items():\n",
    "    if k in tf_idf_vocab:\n",
    "        print(count)\n",
    "    "
   ]
  },
  {
   "cell_type": "code",
   "execution_count": 40,
   "metadata": {
    "scrolled": true
   },
   "outputs": [
    {
     "data": {
      "text/plain": [
       "array([[0.81103282]])"
      ]
     },
     "execution_count": 40,
     "metadata": {},
     "output_type": "execute_result"
    }
   ],
   "source": [
    "from sklearn.metrics.pairwise import cosine_distances\n",
    "cosine_distances(obama_tfidf, clinton_tfidf)"
   ]
  },
  {
   "cell_type": "code",
   "execution_count": 41,
   "metadata": {},
   "outputs": [
    {
     "data": {
      "text/plain": [
       "array([[0.97443419]])"
      ]
     },
     "execution_count": 41,
     "metadata": {},
     "output_type": "execute_result"
    }
   ],
   "source": [
    "cosine_distances(obama_tfidf, beckham_tfidf)"
   ]
  },
  {
   "cell_type": "code",
   "execution_count": 31,
   "metadata": {},
   "outputs": [],
   "source": [
    "from sklearn.neighbors import NearestNeighbors\n",
    "knn_model = NearestNeighbors().fit(people_tfidf)"
   ]
  },
  {
   "cell_type": "code",
   "execution_count": 43,
   "metadata": {},
   "outputs": [],
   "source": [
    "from sklearn.neighbors import NearestNeighbors\n",
    "knn_model = NearestNeighbors().fit(people_tfidf)"
   ]
  },
  {
   "cell_type": "code",
   "execution_count": 38,
   "metadata": {},
   "outputs": [
    {
     "data": {
      "text/html": [
       "<div>\n",
       "<style scoped>\n",
       "    .dataframe tbody tr th:only-of-type {\n",
       "        vertical-align: middle;\n",
       "    }\n",
       "\n",
       "    .dataframe tbody tr th {\n",
       "        vertical-align: top;\n",
       "    }\n",
       "\n",
       "    .dataframe thead th {\n",
       "        text-align: right;\n",
       "    }\n",
       "</style>\n",
       "<table border=\"1\" class=\"dataframe\">\n",
       "  <thead>\n",
       "    <tr style=\"text-align: right;\">\n",
       "      <th></th>\n",
       "      <th>name</th>\n",
       "      <th>distance</th>\n",
       "      <th>index</th>\n",
       "    </tr>\n",
       "  </thead>\n",
       "  <tbody>\n",
       "    <tr>\n",
       "      <td>35817</td>\n",
       "      <td>Barack Obama</td>\n",
       "      <td>0.000000</td>\n",
       "      <td>35817</td>\n",
       "    </tr>\n",
       "    <tr>\n",
       "      <td>24478</td>\n",
       "      <td>Joe Biden</td>\n",
       "      <td>1.165145</td>\n",
       "      <td>24478</td>\n",
       "    </tr>\n",
       "    <tr>\n",
       "      <td>38376</td>\n",
       "      <td>Samantha Power</td>\n",
       "      <td>1.207369</td>\n",
       "      <td>38376</td>\n",
       "    </tr>\n",
       "    <tr>\n",
       "      <td>57108</td>\n",
       "      <td>Hillary Rodham Clinton</td>\n",
       "      <td>1.219640</td>\n",
       "      <td>57108</td>\n",
       "    </tr>\n",
       "    <tr>\n",
       "      <td>38714</td>\n",
       "      <td>Eric Stern (politician)</td>\n",
       "      <td>1.222509</td>\n",
       "      <td>38714</td>\n",
       "    </tr>\n",
       "  </tbody>\n",
       "</table>\n",
       "</div>"
      ],
      "text/plain": [
       "                          name  distance  index\n",
       "35817             Barack Obama  0.000000  35817\n",
       "24478                Joe Biden  1.165145  24478\n",
       "38376           Samantha Power  1.207369  38376\n",
       "57108   Hillary Rodham Clinton  1.219640  57108\n",
       "38714  Eric Stern (politician)  1.222509  38714"
      ]
     },
     "execution_count": 38,
     "metadata": {},
     "output_type": "execute_result"
    }
   ],
   "source": [
    "n_dist, n_ids = knn_model.kneighbors(obama_tfidf, return_distance=True)\n",
    "n_ids, n_dist = n_ids[0], n_dist[0]\n",
    "#print(n_dist, n_ids)\n",
    "n_names = people['name'].iloc[n_ids]\n",
    "neighbors = pandas.DataFrame({\"name\":n_names, \"distance\": n_dist, \"index\": n_ids}).sort_values(\"distance\", ascending=True)\n",
    "neighbors\n"
   ]
  },
  {
   "cell_type": "code",
   "execution_count": null,
   "metadata": {},
   "outputs": [],
   "source": []
  }
 ],
 "metadata": {
  "kernelspec": {
   "display_name": "Python 3",
   "language": "python",
   "name": "python3"
  },
  "language_info": {
   "codemirror_mode": {
    "name": "ipython",
    "version": 3
   },
   "file_extension": ".py",
   "mimetype": "text/x-python",
   "name": "python",
   "nbconvert_exporter": "python",
   "pygments_lexer": "ipython3",
   "version": "3.7.4"
  }
 },
 "nbformat": 4,
 "nbformat_minor": 2
}
